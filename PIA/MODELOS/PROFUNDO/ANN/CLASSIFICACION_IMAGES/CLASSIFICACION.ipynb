{
 "cells": [
  {
   "cell_type": "code",
   "execution_count": 37,
   "id": "9ec8831c-51d1-4a9b-a0a6-bdc22c432060",
   "metadata": {},
   "outputs": [],
   "source": [
    "import numpy as np\n",
    "import matplotlib.pyplot as plt\n",
    "from sklearn.datasets import load_digits\n",
    "from sklearn.model_selection import train_test_split\n",
    "from sklearn.preprocessing import OneHotEncoder, StandardScaler\n",
    "import tensorflow as tf\n",
    "from tensorflow.keras import layers, models\n"
   ]
  },
  {
   "cell_type": "markdown",
   "id": "1bff9670-cc6a-4a7a-9142-ad86ad29378d",
   "metadata": {},
   "source": [
    "## Paso 2: Cargar y explorar el dataset"
   ]
  },
  {
   "cell_type": "code",
   "execution_count": 40,
   "id": "7391e78e-174c-4929-b784-38d32ab1b8e1",
   "metadata": {},
   "outputs": [
    {
     "name": "stdout",
     "output_type": "stream",
     "text": [
      "Shape de las imágenes: (1797, 8, 8)\n",
      "Shape de las etiquetas: (1797,)\n"
     ]
    }
   ],
   "source": [
    "from sklearn.datasets import load_digits\n",
    "\n",
    "# Cargar imágenes\n",
    "df = load_digits()\n",
    "print(\"Shape de las imágenes:\", df.images.shape)  # (1797, 8, 8)\n",
    "print(\"Shape de las etiquetas:\", df.target.shape)  # (1797,)"
   ]
  },
  {
   "cell_type": "markdown",
   "id": "12a601d4-931f-40e5-ab90-85ded15bd2fa",
   "metadata": {},
   "source": [
    "(1000, 32, 32): 1000 imágenes en blanco y negro de 32x32 píxeles."
   ]
  },
  {
   "cell_type": "markdown",
   "id": "44776875-ed33-49ac-9452-7f70c7979475",
   "metadata": {},
   "source": [
    "## Aplanar imágenes para capas densas"
   ]
  },
  {
   "cell_type": "code",
   "execution_count": 18,
   "id": "83a99ea3-2196-43e8-8771-b256fbda8b64",
   "metadata": {},
   "outputs": [
    {
     "name": "stdout",
     "output_type": "stream",
     "text": [
      "Shape después de aplanar: (1797, 64)\n"
     ]
    }
   ],
   "source": [
    "# Aplanar las imágenes\n",
    "X = df.images.reshape(-1, 64)  # 8x8 = 64\n",
    "print(\"Shape después de aplanar:\", X.shape)\n"
   ]
  },
  {
   "cell_type": "markdown",
   "id": "8e35b60a-9dc4-4911-b8bd-11d09378bf42",
   "metadata": {},
   "source": [
    "## Escalar los datos \n"
   ]
  },
  {
   "cell_type": "code",
   "execution_count": 21,
   "id": "a631a2d3-42e4-403d-af66-92effe49040d",
   "metadata": {},
   "outputs": [],
   "source": [
    "# Escalar los datos entre 0 y 1\n",
    "scaler = StandardScaler()\n",
    "X = scaler.fit_transform(X)\n",
    "\n",
    "# Codificar las etiquetas en formato \"one-hot\"\n",
    "encoder = OneHotEncoder(sparse_output=False)  # Cambiar sparse a sparse_output\n",
    "y = encoder.fit_transform(df.target.reshape(-1, 1))"
   ]
  },
  {
   "cell_type": "markdown",
   "id": "8a235ef5-54d3-4ea4-b572-cb3f6e1a52e1",
   "metadata": {},
   "source": [
    "## SEPARAR TRAIN Y TEST"
   ]
  },
  {
   "cell_type": "code",
   "execution_count": 24,
   "id": "b72e07a6-baae-4f74-a965-a77240d4fc33",
   "metadata": {},
   "outputs": [],
   "source": [
    "# Dividir los datos en entrenamiento y prueba\n",
    "X_train, X_test, y_train, y_test = train_test_split(X, y, test_size=0.2, random_state=42)"
   ]
  },
  {
   "cell_type": "markdown",
   "id": "2ca3e3e9-149c-4996-b1f6-6268e53fd395",
   "metadata": {},
   "source": [
    "## Defino ANN"
   ]
  },
  {
   "cell_type": "code",
   "execution_count": 27,
   "id": "23d389dc-dd52-4769-b516-08609a43c0b4",
   "metadata": {},
   "outputs": [
    {
     "name": "stderr",
     "output_type": "stream",
     "text": [
      "C:\\Users\\pere amat\\anaconda3\\Lib\\site-packages\\keras\\src\\layers\\core\\dense.py:87: UserWarning: Do not pass an `input_shape`/`input_dim` argument to a layer. When using Sequential models, prefer using an `Input(shape)` object as the first layer in the model instead.\n",
      "  super().__init__(activity_regularizer=activity_regularizer, **kwargs)\n"
     ]
    }
   ],
   "source": [
    "model = models.Sequential([\n",
    "    layers.Dense(128, activation='relu', input_shape=(64,)),  # Capa oculta 1\n",
    "    layers.Dense(64, activation='relu'),                      # Capa oculta 2\n",
    "    x                 # Capa de salida\n",
    "])\n"
   ]
  },
  {
   "cell_type": "markdown",
   "id": "7422ac6d-6b6d-42a2-a501-3383efb7c713",
   "metadata": {},
   "source": [
    "## COMPILAR"
   ]
  },
  {
   "cell_type": "code",
   "execution_count": 55,
   "id": "a2f05cbd-3da0-465c-870a-1240cfcb02d0",
   "metadata": {},
   "outputs": [],
   "source": [
    "model.compile(\n",
    "    optimizer='adam',\n",
    "    loss='categorical_crossentropy',\n",
    "    metrics=['accuracy']\n",
    ")\n"
   ]
  },
  {
   "cell_type": "markdown",
   "id": "f3c10131-498a-4a0a-96fc-fc45b4115583",
   "metadata": {},
   "source": [
    "## TRAIN MODELO"
   ]
  },
  {
   "cell_type": "code",
   "execution_count": 58,
   "id": "78ab962e-1fb0-4ebb-94eb-075bc4679e45",
   "metadata": {},
   "outputs": [
    {
     "name": "stdout",
     "output_type": "stream",
     "text": [
      "Epoch 1/10\n",
      "\u001b[1m23/23\u001b[0m \u001b[32m━━━━━━━━━━━━━━━━━━━━\u001b[0m\u001b[37m\u001b[0m \u001b[1m2s\u001b[0m 18ms/step - accuracy: 0.2997 - loss: 2.1475 - val_accuracy: 0.8028 - val_loss: 1.2312\n",
      "Epoch 2/10\n",
      "\u001b[1m23/23\u001b[0m \u001b[32m━━━━━━━━━━━━━━━━━━━━\u001b[0m\u001b[37m\u001b[0m \u001b[1m0s\u001b[0m 8ms/step - accuracy: 0.8292 - loss: 1.0110 - val_accuracy: 0.9000 - val_loss: 0.5353\n",
      "Epoch 3/10\n",
      "\u001b[1m23/23\u001b[0m \u001b[32m━━━━━━━━━━━━━━━━━━━━\u001b[0m\u001b[37m\u001b[0m \u001b[1m0s\u001b[0m 8ms/step - accuracy: 0.9087 - loss: 0.4732 - val_accuracy: 0.9306 - val_loss: 0.2952\n",
      "Epoch 4/10\n",
      "\u001b[1m23/23\u001b[0m \u001b[32m━━━━━━━━━━━━━━━━━━━━\u001b[0m\u001b[37m\u001b[0m \u001b[1m0s\u001b[0m 8ms/step - accuracy: 0.9529 - loss: 0.2451 - val_accuracy: 0.9417 - val_loss: 0.2047\n",
      "Epoch 5/10\n",
      "\u001b[1m23/23\u001b[0m \u001b[32m━━━━━━━━━━━━━━━━━━━━\u001b[0m\u001b[37m\u001b[0m \u001b[1m0s\u001b[0m 7ms/step - accuracy: 0.9637 - loss: 0.1788 - val_accuracy: 0.9472 - val_loss: 0.1629\n",
      "Epoch 6/10\n",
      "\u001b[1m23/23\u001b[0m \u001b[32m━━━━━━━━━━━━━━━━━━━━\u001b[0m\u001b[37m\u001b[0m \u001b[1m0s\u001b[0m 8ms/step - accuracy: 0.9748 - loss: 0.1259 - val_accuracy: 0.9528 - val_loss: 0.1355\n",
      "Epoch 7/10\n",
      "\u001b[1m23/23\u001b[0m \u001b[32m━━━━━━━━━━━━━━━━━━━━\u001b[0m\u001b[37m\u001b[0m \u001b[1m0s\u001b[0m 7ms/step - accuracy: 0.9850 - loss: 0.0908 - val_accuracy: 0.9639 - val_loss: 0.1178\n",
      "Epoch 8/10\n",
      "\u001b[1m23/23\u001b[0m \u001b[32m━━━━━━━━━━━━━━━━━━━━\u001b[0m\u001b[37m\u001b[0m \u001b[1m0s\u001b[0m 7ms/step - accuracy: 0.9921 - loss: 0.0723 - val_accuracy: 0.9639 - val_loss: 0.1088\n",
      "Epoch 9/10\n",
      "\u001b[1m23/23\u001b[0m \u001b[32m━━━━━━━━━━━━━━━━━━━━\u001b[0m\u001b[37m\u001b[0m \u001b[1m0s\u001b[0m 8ms/step - accuracy: 0.9969 - loss: 0.0511 - val_accuracy: 0.9694 - val_loss: 0.1002\n",
      "Epoch 10/10\n",
      "\u001b[1m23/23\u001b[0m \u001b[32m━━━━━━━━━━━━━━━━━━━━\u001b[0m\u001b[37m\u001b[0m \u001b[1m0s\u001b[0m 8ms/step - accuracy: 0.9942 - loss: 0.0478 - val_accuracy: 0.9694 - val_loss: 0.0959\n"
     ]
    }
   ],
   "source": [
    "history = model.fit(\n",
    "    X_train, y_train,\n",
    "    validation_data=(X_test, y_test),\n",
    "    epochs=10,\n",
    "    batch_size=64,\n",
    "    verbose=1\n",
    ")\n"
   ]
  },
  {
   "cell_type": "markdown",
   "id": "f927495c-9403-4f95-a1a9-0d5f22e3f644",
   "metadata": {},
   "source": [
    "accuracy: Mide la precisión del modelo en los datos de entrenamiento.\n",
    "val_accuracy: Mide la precisión del modelo en los datos de validación (nunca vistos en el entrenamiento)."
   ]
  },
  {
   "cell_type": "code",
   "execution_count": 60,
   "id": "527bf9ef-cd4f-4062-9584-7d0b92eef454",
   "metadata": {},
   "outputs": [
    {
     "name": "stdout",
     "output_type": "stream",
     "text": [
      "\u001b[1m12/12\u001b[0m \u001b[32m━━━━━━━━━━━━━━━━━━━━\u001b[0m\u001b[37m\u001b[0m \u001b[1m0s\u001b[0m 6ms/step\n",
      "              precision    recall  f1-score   support\n",
      "\n",
      "           0       0.97      0.97      0.97        33\n",
      "           1       0.96      0.96      0.96        28\n",
      "           2       0.97      0.97      0.97        33\n",
      "           3       0.97      0.97      0.97        34\n",
      "           4       1.00      1.00      1.00        46\n",
      "           5       0.96      0.94      0.95        47\n",
      "           6       0.94      0.97      0.96        35\n",
      "           7       1.00      0.97      0.99        34\n",
      "           8       1.00      0.93      0.97        30\n",
      "           9       0.93      1.00      0.96        40\n",
      "\n",
      "    accuracy                           0.97       360\n",
      "   macro avg       0.97      0.97      0.97       360\n",
      "weighted avg       0.97      0.97      0.97       360\n",
      "\n"
     ]
    }
   ],
   "source": [
    "from sklearn.metrics import classification_report\n",
    "\n",
    "# Obtener etiquetas reales y predichas\n",
    "y_pred_classes = np.argmax(model.predict(X_test), axis=1)\n",
    "y_true = np.argmax(y_test, axis=1)\n",
    "\n",
    "# Generar y mostrar el reporte\n",
    "print(classification_report(y_true, y_pred_classes))\n"
   ]
  },
  {
   "cell_type": "code",
   "execution_count": null,
   "id": "5ec9397c-a0ad-4d2a-b8f4-3e65f7466848",
   "metadata": {},
   "outputs": [],
   "source": []
  }
 ],
 "metadata": {
  "kernelspec": {
   "display_name": "Python 3 (ipykernel)",
   "language": "python",
   "name": "python3"
  },
  "language_info": {
   "codemirror_mode": {
    "name": "ipython",
    "version": 3
   },
   "file_extension": ".py",
   "mimetype": "text/x-python",
   "name": "python",
   "nbconvert_exporter": "python",
   "pygments_lexer": "ipython3",
   "version": "3.12.3"
  }
 },
 "nbformat": 4,
 "nbformat_minor": 5
}
